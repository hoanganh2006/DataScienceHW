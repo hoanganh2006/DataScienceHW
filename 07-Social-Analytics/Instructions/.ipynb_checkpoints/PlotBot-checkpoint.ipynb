{
 "cells": [
  {
   "cell_type": "code",
   "execution_count": 34,
   "metadata": {
    "collapsed": true
   },
   "outputs": [],
   "source": [
    "import tweepy \n",
    "import json \n",
    "from vaderSentiment.vaderSentiment import SentimentIntensityAnalyzer\n",
    "analyzer = SentimentIntensityAnalyzer()\n",
    "import seaborn as sns\n",
    "import matplotlib as plt\n",
    "%matplotlib inline"
   ]
  },
  {
   "cell_type": "code",
   "execution_count": 35,
   "metadata": {
    "collapsed": true
   },
   "outputs": [],
   "source": [
    "#Need to hide the key later\n",
    "consumer_key = 'HHgynO6AhJ1Eyy9OTw4qXpv2e'\n",
    "consumer_secret = 'UbHucIwrCC1Fk23GCr0ofTtEAGb0FZG8PguKwpEbO2k1MiFJ5I'\n",
    "access_token = '967429481920114688-WL51zVV56NJWf8DBAvfueOZ4sjXpvwX'\n",
    "access_token_secret = 'InOxjrfr82l0taGaHCJtG5gw3zvuODN97ZnGESaub1Jsu'"
   ]
  },
  {
   "cell_type": "code",
   "execution_count": 38,
   "metadata": {
    "collapsed": true
   },
   "outputs": [],
   "source": [
    "#Write the function to pull all the tweets mentions @PlotBot5 and pull the Twitter account's recent tweets\n",
    "def CollectTweet (target_user):\n",
    "    # Setup Tweepy API Authentication\n",
    "    auth = tweepy.OAuthHandler(consumer_key, consumer_secret)\n",
    "    auth.set_access_token(access_token, access_token_secret)\n",
    "    api = tweepy.API(auth)\n",
    "    mention = api.search(q=\"@PlotBot5 Analyze:\")\n",
    "    for tweet in mention: \n",
    "        tweet_text = json.dumps(tweet._json, indent=3)\n",
    "        tweet = json.loads(tweet_text)\n",
    "        target_user = tweet['entities']['user_mentions'][1]['screen_name'] #this will get the name of the Twitter's account recently tweet\n",
    "        return target_user #Pass the name of the Twitter account that will be use to analyze data"
   ]
  },
  {
   "cell_type": "code",
   "execution_count": null,
   "metadata": {
    "collapsed": true
   },
   "outputs": [],
   "source": [
    "#Pull most 500 recent tweets and use sentimental analysis to analyze the tweets\n",
    "def AnalyzeTweet(target_user):\n",
    "    auth = tweepy.OAuthHandler(consumer_key, consumer_secret)\n",
    "    auth.set_access_token(access_token, access_token_secret)\n",
    "    api = tweepy.API(auth)\n",
    "    #Create empty list to store those values\n",
    "    compound_list = []\n",
    "    positive_list = []\n",
    "    negative_list = []\n",
    "    neutral_list = []\n",
    "    for user in target_user: \n",
    "    for page in tweepy.Cursor(api.user_timeline, id=target_user).pages(2):\n",
    "    # page is a list of statuses"
   ]
  }
 ],
 "metadata": {
  "kernelspec": {
   "display_name": "Python [conda env:PythonData]",
   "language": "python",
   "name": "conda-env-PythonData-py"
  },
  "language_info": {
   "codemirror_mode": {
    "name": "ipython",
    "version": 3
   },
   "file_extension": ".py",
   "mimetype": "text/x-python",
   "name": "python",
   "nbconvert_exporter": "python",
   "pygments_lexer": "ipython3",
   "version": "3.6.3"
  }
 },
 "nbformat": 4,
 "nbformat_minor": 2
}
