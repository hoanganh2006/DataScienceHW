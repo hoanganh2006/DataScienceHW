{
 "cells": [
  {
   "cell_type": "code",
   "execution_count": 1,
   "metadata": {
    "collapsed": true
   },
   "outputs": [],
   "source": [
    "import cv2\n",
    "import numpy as np \n",
    "import pickle"
   ]
  },
  {
   "cell_type": "code",
   "execution_count": 3,
   "metadata": {
    "collapsed": true
   },
   "outputs": [],
   "source": [
    "def build_squares(img):\n",
    "    x, y, w, h = 420, 140, 10, 10\n",
    "    d = 10 \n",
    "    impCrop = None\n",
    "    crop = None\n",
    "    for i in range (10): \n",
    "        for j in range(5): \n",
    "            if np.any(imgCrop == None): \n",
    "                imgCrop = img[y:y+h, x: x+w]\n",
    "            else: \n",
    "                imgCrop = np.hstack((imgCrop, img[y:y+h, x:x+w]))\n",
    "            print(imgCrop.shape)\n",
    "            cv3.rectangle(img, (x,y), (x+w, y+h), (0, 255,0), 1)\n",
    "            x += w+d\n",
    "        if np.any(crop == None): \n",
    "            crop = imgCrop\n",
    "        else:\n",
    "            crop = np.vstack((crop, imgCrop))\n",
    "        imgCrop = None\n",
    "        x = 420 \n",
    "        y += h + d \n",
    "    return crop \n",
    "\n",
    "def get_hand_hist(): \n",
    "    cam = cv2.VideoCapture(1)\n",
    "    if cam.read()[0] == False: \n",
    "        cam = cv2.VideoCapture(0)\n",
    "    x, y, w, h = 300, 100, 300, 300\n",
    "    flagPressedC, flagPressedS = False, False\n",
    "    imgCrop = None\n",
    "    while True: \n",
    "        img = cam.read()[1]\n",
    "        img = cv2.flip(img, 1)\n",
    "        hsv = cv2.cvtColor(img, cv2.COLOR_BG2HSV)\n",
    "        keypress = cv2.waitKey(1)\n",
    "        if keypress == ord('c'): \n",
    "            hsvCrop = cv2.cvtColor(imgCrop, cv2.COLOR_BG2HSV)\n",
    "            flagPressedC= True\n",
    "            hist = csv2.calcHist([hsvCrop], [0,1], None, [180, 256], [0, 180, 0, 256])\n",
    "            cv2.normalize(hist, hist, 0, 225, cv2.NORM_MINMAX)\n",
    "        elif keypress == ord('s'): \n",
    "            flagPressedS = True\n",
    "            break\n",
    "        if flagPressedC: \n",
    "            dst = cv2.calcBackProject([hsv], [0, 1], hist, [0, 180, 0, 256], 1)\n",
    "            dst1 = dst.copy()\n",
    "            disc = cv2.getStructuringElement(cv2.MORPH_ELLIPSE,(10,10))\n",
    "            cv2.filter2D(dst,-1,disc,dst)\n",
    "            blur = cv2.GaussianBlur(dst, (11,11), 0)\n",
    "            blur = cv2.medianBlur(blur, 15)\n",
    "            ret,thresh = cv2.threshold(blur,0,255,cv2.THRESH_BINARY+cv2.THRESH_OTSU)\n",
    "            thresh = cv2.merge((thresh,thresh,thresh))\n",
    "            cv2.imshow(\"Thresh\", thresh)\n",
    "        if not flagPressedS:\n",
    "            imgCrop = build_squares(img)\n",
    "        cv2.imshow(\"Set hand histogram\", img)\n",
    "    cam.release()\n",
    "    cv2.destroyAllWindows()\n",
    "    with open(\"hist\", \"wb\") as f:\n",
    "        pickle.dump(hist, f)\n",
    "    \n",
    "    get_hand_hist()\n"
   ]
  },
  {
   "cell_type": "code",
   "execution_count": null,
   "metadata": {
    "collapsed": true
   },
   "outputs": [],
   "source": []
  }
 ],
 "metadata": {
  "kernelspec": {
   "display_name": "Python 3",
   "language": "python",
   "name": "python3"
  },
  "language_info": {
   "codemirror_mode": {
    "name": "ipython",
    "version": 3
   },
   "file_extension": ".py",
   "mimetype": "text/x-python",
   "name": "python",
   "nbconvert_exporter": "python",
   "pygments_lexer": "ipython3",
   "version": "3.6.3"
  }
 },
 "nbformat": 4,
 "nbformat_minor": 2
}
